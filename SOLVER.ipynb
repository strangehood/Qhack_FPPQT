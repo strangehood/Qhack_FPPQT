{
  "cells": [
    {
      "cell_type": "markdown",
      "metadata": {
        "id": "view-in-github",
        "colab_type": "text"
      },
      "source": [
        "<a href=\"https://colab.research.google.com/github/strangehood/Qhack_FPPQT/blob/main/SOLVER.ipynb\" target=\"_parent\"><img src=\"https://colab.research.google.com/assets/colab-badge.svg\" alt=\"Open In Colab\"/></a>"
      ]
    },
    {
      "cell_type": "code",
      "execution_count": null,
      "metadata": {
        "colab": {
          "base_uri": "https://localhost:8080/"
        },
        "id": "cpm3SU7LprSA",
        "outputId": "de8a5107-0f95-4c5a-9917-99b10066263b"
      },
      "outputs": [
        {
          "name": "stdout",
          "output_type": "stream",
          "text": [
            "Collecting pennylane\n",
            "  Downloading PennyLane-0.21.0-py3-none-any.whl (800 kB)\n",
            "\u001b[?25l\r\u001b[K     |▍                               | 10 kB 22.5 MB/s eta 0:00:01\r\u001b[K     |▉                               | 20 kB 16.9 MB/s eta 0:00:01\r\u001b[K     |█▎                              | 30 kB 11.1 MB/s eta 0:00:01\r\u001b[K     |█▋                              | 40 kB 9.6 MB/s eta 0:00:01\r\u001b[K     |██                              | 51 kB 4.8 MB/s eta 0:00:01\r\u001b[K     |██▌                             | 61 kB 5.7 MB/s eta 0:00:01\r\u001b[K     |██▉                             | 71 kB 5.7 MB/s eta 0:00:01\r\u001b[K     |███▎                            | 81 kB 4.3 MB/s eta 0:00:01\r\u001b[K     |███▊                            | 92 kB 4.8 MB/s eta 0:00:01\r\u001b[K     |████                            | 102 kB 5.2 MB/s eta 0:00:01\r\u001b[K     |████▌                           | 112 kB 5.2 MB/s eta 0:00:01\r\u001b[K     |█████                           | 122 kB 5.2 MB/s eta 0:00:01\r\u001b[K     |█████▎                          | 133 kB 5.2 MB/s eta 0:00:01\r\u001b[K     |█████▊                          | 143 kB 5.2 MB/s eta 0:00:01\r\u001b[K     |██████▏                         | 153 kB 5.2 MB/s eta 0:00:01\r\u001b[K     |██████▌                         | 163 kB 5.2 MB/s eta 0:00:01\r\u001b[K     |███████                         | 174 kB 5.2 MB/s eta 0:00:01\r\u001b[K     |███████▍                        | 184 kB 5.2 MB/s eta 0:00:01\r\u001b[K     |███████▉                        | 194 kB 5.2 MB/s eta 0:00:01\r\u001b[K     |████████▏                       | 204 kB 5.2 MB/s eta 0:00:01\r\u001b[K     |████████▋                       | 215 kB 5.2 MB/s eta 0:00:01\r\u001b[K     |█████████                       | 225 kB 5.2 MB/s eta 0:00:01\r\u001b[K     |█████████▍                      | 235 kB 5.2 MB/s eta 0:00:01\r\u001b[K     |█████████▉                      | 245 kB 5.2 MB/s eta 0:00:01\r\u001b[K     |██████████▎                     | 256 kB 5.2 MB/s eta 0:00:01\r\u001b[K     |██████████▋                     | 266 kB 5.2 MB/s eta 0:00:01\r\u001b[K     |███████████                     | 276 kB 5.2 MB/s eta 0:00:01\r\u001b[K     |███████████▌                    | 286 kB 5.2 MB/s eta 0:00:01\r\u001b[K     |███████████▉                    | 296 kB 5.2 MB/s eta 0:00:01\r\u001b[K     |████████████▎                   | 307 kB 5.2 MB/s eta 0:00:01\r\u001b[K     |████████████▊                   | 317 kB 5.2 MB/s eta 0:00:01\r\u001b[K     |█████████████                   | 327 kB 5.2 MB/s eta 0:00:01\r\u001b[K     |█████████████▌                  | 337 kB 5.2 MB/s eta 0:00:01\r\u001b[K     |██████████████                  | 348 kB 5.2 MB/s eta 0:00:01\r\u001b[K     |██████████████▎                 | 358 kB 5.2 MB/s eta 0:00:01\r\u001b[K     |██████████████▊                 | 368 kB 5.2 MB/s eta 0:00:01\r\u001b[K     |███████████████▏                | 378 kB 5.2 MB/s eta 0:00:01\r\u001b[K     |███████████████▋                | 389 kB 5.2 MB/s eta 0:00:01\r\u001b[K     |████████████████                | 399 kB 5.2 MB/s eta 0:00:01\r\u001b[K     |████████████████▍               | 409 kB 5.2 MB/s eta 0:00:01\r\u001b[K     |████████████████▉               | 419 kB 5.2 MB/s eta 0:00:01\r\u001b[K     |█████████████████▏              | 430 kB 5.2 MB/s eta 0:00:01\r\u001b[K     |█████████████████▋              | 440 kB 5.2 MB/s eta 0:00:01\r\u001b[K     |██████████████████              | 450 kB 5.2 MB/s eta 0:00:01\r\u001b[K     |██████████████████▍             | 460 kB 5.2 MB/s eta 0:00:01\r\u001b[K     |██████████████████▉             | 471 kB 5.2 MB/s eta 0:00:01\r\u001b[K     |███████████████████▎            | 481 kB 5.2 MB/s eta 0:00:01\r\u001b[K     |███████████████████▋            | 491 kB 5.2 MB/s eta 0:00:01\r\u001b[K     |████████████████████            | 501 kB 5.2 MB/s eta 0:00:01\r\u001b[K     |████████████████████▌           | 512 kB 5.2 MB/s eta 0:00:01\r\u001b[K     |████████████████████▉           | 522 kB 5.2 MB/s eta 0:00:01\r\u001b[K     |█████████████████████▎          | 532 kB 5.2 MB/s eta 0:00:01\r\u001b[K     |█████████████████████▊          | 542 kB 5.2 MB/s eta 0:00:01\r\u001b[K     |██████████████████████          | 552 kB 5.2 MB/s eta 0:00:01\r\u001b[K     |██████████████████████▌         | 563 kB 5.2 MB/s eta 0:00:01\r\u001b[K     |███████████████████████         | 573 kB 5.2 MB/s eta 0:00:01\r\u001b[K     |███████████████████████▍        | 583 kB 5.2 MB/s eta 0:00:01\r\u001b[K     |███████████████████████▊        | 593 kB 5.2 MB/s eta 0:00:01\r\u001b[K     |████████████████████████▏       | 604 kB 5.2 MB/s eta 0:00:01\r\u001b[K     |████████████████████████▋       | 614 kB 5.2 MB/s eta 0:00:01\r\u001b[K     |█████████████████████████       | 624 kB 5.2 MB/s eta 0:00:01\r\u001b[K     |█████████████████████████▍      | 634 kB 5.2 MB/s eta 0:00:01\r\u001b[K     |█████████████████████████▉      | 645 kB 5.2 MB/s eta 0:00:01\r\u001b[K     |██████████████████████████▏     | 655 kB 5.2 MB/s eta 0:00:01\r\u001b[K     |██████████████████████████▋     | 665 kB 5.2 MB/s eta 0:00:01\r\u001b[K     |███████████████████████████     | 675 kB 5.2 MB/s eta 0:00:01\r\u001b[K     |███████████████████████████▍    | 686 kB 5.2 MB/s eta 0:00:01\r\u001b[K     |███████████████████████████▉    | 696 kB 5.2 MB/s eta 0:00:01\r\u001b[K     |████████████████████████████▎   | 706 kB 5.2 MB/s eta 0:00:01\r\u001b[K     |████████████████████████████▋   | 716 kB 5.2 MB/s eta 0:00:01\r\u001b[K     |█████████████████████████████   | 727 kB 5.2 MB/s eta 0:00:01\r\u001b[K     |█████████████████████████████▌  | 737 kB 5.2 MB/s eta 0:00:01\r\u001b[K     |█████████████████████████████▉  | 747 kB 5.2 MB/s eta 0:00:01\r\u001b[K     |██████████████████████████████▎ | 757 kB 5.2 MB/s eta 0:00:01\r\u001b[K     |██████████████████████████████▊ | 768 kB 5.2 MB/s eta 0:00:01\r\u001b[K     |███████████████████████████████▏| 778 kB 5.2 MB/s eta 0:00:01\r\u001b[K     |███████████████████████████████▌| 788 kB 5.2 MB/s eta 0:00:01\r\u001b[K     |████████████████████████████████| 798 kB 5.2 MB/s eta 0:00:01\r\u001b[K     |████████████████████████████████| 800 kB 5.2 MB/s \n",
            "\u001b[?25hCollecting autoray\n",
            "  Downloading autoray-0.2.5-py3-none-any.whl (16 kB)\n",
            "Collecting toml\n",
            "  Downloading toml-0.10.2-py2.py3-none-any.whl (16 kB)\n",
            "Requirement already satisfied: numpy in /usr/local/lib/python3.7/dist-packages (from pennylane) (1.21.5)\n",
            "Requirement already satisfied: scipy in /usr/local/lib/python3.7/dist-packages (from pennylane) (1.4.1)\n",
            "Requirement already satisfied: cachetools in /usr/local/lib/python3.7/dist-packages (from pennylane) (4.2.4)\n",
            "Requirement already satisfied: networkx in /usr/local/lib/python3.7/dist-packages (from pennylane) (2.6.3)\n",
            "Collecting semantic-version==2.6\n",
            "  Downloading semantic_version-2.6.0-py3-none-any.whl (14 kB)\n",
            "Collecting retworkx\n",
            "  Downloading retworkx-0.11.0-cp37-cp37m-manylinux_2_5_x86_64.manylinux1_x86_64.manylinux_2_12_x86_64.manylinux2010_x86_64.whl (1.6 MB)\n",
            "\u001b[K     |████████████████████████████████| 1.6 MB 42.9 MB/s \n",
            "\u001b[?25hRequirement already satisfied: autograd in /usr/local/lib/python3.7/dist-packages (from pennylane) (1.3)\n",
            "Collecting pennylane-lightning>=0.21\n",
            "  Downloading PennyLane_Lightning-0.21.0-cp37-cp37m-manylinux_2_17_x86_64.manylinux2014_x86_64.whl (7.8 MB)\n",
            "\u001b[K     |████████████████████████████████| 7.8 MB 17.1 MB/s \n",
            "\u001b[?25hRequirement already satisfied: appdirs in /usr/local/lib/python3.7/dist-packages (from pennylane) (1.4.4)\n",
            "Collecting ninja\n",
            "  Downloading ninja-1.10.2.3-py2.py3-none-manylinux_2_5_x86_64.manylinux1_x86_64.whl (108 kB)\n",
            "\u001b[K     |████████████████████████████████| 108 kB 57.9 MB/s \n",
            "\u001b[?25hRequirement already satisfied: future>=0.15.2 in /usr/local/lib/python3.7/dist-packages (from autograd->pennylane) (0.16.0)\n",
            "Installing collected packages: ninja, toml, semantic-version, retworkx, pennylane-lightning, autoray, pennylane\n",
            "Successfully installed autoray-0.2.5 ninja-1.10.2.3 pennylane-0.21.0 pennylane-lightning-0.21.0 retworkx-0.11.0 semantic-version-2.6.0 toml-0.10.2\n"
          ]
        }
      ],
      "source": [
        "pip install pennylane"
      ]
    },
    {
      "cell_type": "code",
      "execution_count": null,
      "metadata": {
        "id": "4hEAyrpB47eS"
      },
      "outputs": [],
      "source": [
        "from pennylane import numpy as np\n",
        "import pennylane as qml"
      ]
    },
    {
      "cell_type": "code",
      "execution_count": null,
      "metadata": {
        "colab": {
          "base_uri": "https://localhost:8080/"
        },
        "id": "N2Z7Vl833wXD",
        "outputId": "f54cdcd8-1523-47b3-e77b-fa1ebaaa51bf"
      },
      "outputs": [
        {
          "name": "stdout",
          "output_type": "stream",
          "text": [
            "0.20000000000000284\n"
          ]
        }
      ],
      "source": [
        "def GapCalc(LatticeNumber, LayersNumber, Field, j2_k_j1 = 1, StepsNumber = 10, eps  = 0.1):\n",
        "  L = LatticeNumber \n",
        "  n_wires = LatticeNumber ** 2\n",
        "  n_layers = LayersNumber\n",
        "  dev = qml.device(\"default.qubit\", wires=n_wires, shots=1000)\n",
        "  J = np.zeros((L*L, L*L))\n",
        "  j1 = 1\n",
        "  j2 = -1 * j2_k_j1\n",
        "  for i in range(L):\n",
        "    for j in range(L):\n",
        "      J[L * i + j, L * i + (j + 1) % L] = j1\n",
        "      J[L * i + j, L * ((i + 1) % L) + j] = j1\n",
        "      J[L * i + j, L * ((i + 1) % L) + (j + 1) % L] = j2\n",
        "      J[L * i + j, L * ((i + 1) % L) + (j - 1) % L] = j2\n",
        "  J = 0.5 * (J + J.T)\n",
        "  matrices = []\n",
        "  indexes = []\n",
        "  for i in range(n_wires):\n",
        "    for j in range(n_wires):\n",
        "      matrices.append(qml.PauliZ(wires = i) @ qml.PauliZ(wires = j))\n",
        "      indexes.append(J[i,j])\n",
        "  H = qml.Hamiltonian(indexes, matrices)\n",
        "  matrices = []\n",
        "  indexes = []\n",
        "  for i in range(n_wires):\n",
        "    matrices.append(qml.PauliX(wires = i))\n",
        "    indexes.append(Field)\n",
        "  H += qml.Hamiltonian(indexes, matrices)\n",
        "\n",
        "  @qml.qnode(dev)\n",
        "  def VQEI(paramsI):\n",
        "    for i in range(n_wires):\n",
        "      qml.Hadamard(wires = i)\n",
        "    qml.BasicEntanglerLayers(paramsI, wires = range(n_wires))\n",
        "    return qml.expval(H)\n",
        "\n",
        "  shape = qml.BasicEntanglerLayers.shape(n_layers=n_layers, n_wires=n_wires)\n",
        "  paramsI = np.random.random(size=shape, requires_grad = True)\n",
        "  for _ in range(StepsNumber):\n",
        "    paramsI -= eps * qml.grad(VQEI)(paramsI)\n",
        "  paramsI = np.array(paramsI, requires_grad = False)\n",
        "  energyI = VQEI(paramsI)\n",
        "\n",
        "  @qml.qnode(dev)\n",
        "  def VQEII(paramsII):\n",
        "    for i in range(n_wires):\n",
        "      qml.Hadamard(wires = i)\n",
        "    qml.BasicEntanglerLayers(paramsII, wires = range(n_wires))\n",
        "    return qml.expval(H)\n",
        "\n",
        "  @qml.qnode(dev)\n",
        "  def penaltyI(paramsI, paramsII):\n",
        "    for i in range(n_wires):\n",
        "      qml.Hadamard(wires = i)\n",
        "    qml.BasicEntanglerLayers(paramsII, wires = range(n_wires))\n",
        "    qml.BasicEntanglerLayers(paramsI, wires = range(n_wires)).adjoint\n",
        "    for i in range(n_wires):\n",
        "      qml.Hadamard(wires = i)\n",
        "    S = np.zeros((2**n_wires, 2**n_wires))\n",
        "    S[0,0] = 1\n",
        "    S = qml.Hermitian(S, wires = range(n_wires))\n",
        "    return qml.expval(S)\n",
        "\n",
        "  @qml.qnode(dev)\n",
        "  def penaltyII(paramsI, paramsII):\n",
        "    for i in range(n_wires):\n",
        "      qml.Hadamard(wires = i)\n",
        "    qml.BasicEntanglerLayers(paramsII, wires = range(n_wires))\n",
        "    for i in range(n_wires):\n",
        "      qml.PauliX(wires = i)\n",
        "    qml.BasicEntanglerLayers(paramsI, wires = range(n_wires)).adjoint\n",
        "    for i in range(n_wires):\n",
        "      qml.Hadamard(wires = i)\n",
        "    S = np.zeros((2**n_wires, 2**n_wires))\n",
        "    S[0,0] = 1\n",
        "    S = qml.Hermitian(S, wires = range(n_wires))\n",
        "    return qml.expval(S)\n",
        "\n",
        "  shape = qml.BasicEntanglerLayers.shape(n_layers=n_layers, n_wires=n_wires)\n",
        "  paramsII = np.random.random(size=shape, requires_grad = True)\n",
        "  for _ in range(StepsNumber):\n",
        "    paramsII -= eps * (qml.grad(VQEII)(paramsII) + 2 * n_wires * (qml.grad(penaltyI)(paramsI, paramsII) + qml.grad(penaltyI)(paramsI, paramsII)))\n",
        "  energyII = VQEII(paramsII)\n",
        "    \n",
        "  return abs(energyII - energyI)\n",
        "  \n",
        "print(GapCalc(LatticeNumber = 2,LayersNumber = 5,Field = 10))\n",
        "\n",
        "\n",
        "\n"
      ]
    },
    {
      "cell_type": "code",
      "execution_count": 6,
      "metadata": {
        "colab": {
          "base_uri": "https://localhost:8080/",
          "height": 265
        },
        "id": "zFp7QgBNZFW3",
        "outputId": "9a122720-df8d-42b0-f7f9-58d39aa12c3b"
      },
      "outputs": [
        {
          "output_type": "display_data",
          "data": {
            "image/png": "[encoded data removed]",
            "text/plain": [
              "<Figure size 432x288 with 1 Axes>"
            ]
          },
          "metadata": {
            "needs_background": "light"
          }
        }
      ],
      "source": [
        "import matplotlib.pyplot as plt\n",
        "\n",
        "a = []\n",
        "N = 30\n",
        "for i in range(N):\n",
        "  a.append(GapCalc(LatticeNumber = 2,LayersNumber = 5,Field = 10*(1 - i/N), j2_k_j1 = 2.25))\n",
        "plt.plot(range(N), a, np.zeros(N))\n",
        "plt.show()\n",
        "print(a)"
      ]
    }
  ],
  "metadata": {
    "colab": {
      "name": "SOLVER.ipynb",
      "provenance": [],
      "authorship_tag": "ABX9TyPjJE8bAy3J7tGp2sclUtrO",
      "include_colab_link": true
    },
    "kernelspec": {
      "display_name": "Python 3",
      "name": "python3"
    },
    "language_info": {
      "name": "python"
    }
  },
  "nbformat": 4,
  "nbformat_minor": 0
}