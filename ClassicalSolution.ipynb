{
  "cells": [
    {
      "cell_type": "markdown",
      "metadata": {
        "id": "view-in-github",
        "colab_type": "text"
      },
      "source": [
        "<a href=\"https://colab.research.google.com/github/strangehood/Qhack_FPPQT/blob/main/ClassicalSolution.ipynb\" target=\"_parent\"><img src=\"https://colab.research.google.com/assets/colab-badge.svg\" alt=\"Open In Colab\"/></a>"
      ]
    },
    {
      "cell_type": "code",
      "execution_count": 1,
      "metadata": {
        "colab": {
          "base_uri": "https://localhost:8080/"
        },
        "id": "1Kn9htQQs9PZ",
        "outputId": "ded44a77-0c68-482b-ffc1-7f00b6892c23"
      },
      "outputs": [
        {
          "output_type": "stream",
          "name": "stdout",
          "text": [
            "Requirement already satisfied: pennylane in /usr/local/lib/python3.7/dist-packages (0.21.0)\n",
            "Requirement already satisfied: scipy in /usr/local/lib/python3.7/dist-packages (from pennylane) (1.4.1)\n",
            "Requirement already satisfied: retworkx in /usr/local/lib/python3.7/dist-packages (from pennylane) (0.11.0)\n",
            "Requirement already satisfied: autoray in /usr/local/lib/python3.7/dist-packages (from pennylane) (0.2.5)\n",
            "Requirement already satisfied: toml in /usr/local/lib/python3.7/dist-packages (from pennylane) (0.10.2)\n",
            "Requirement already satisfied: networkx in /usr/local/lib/python3.7/dist-packages (from pennylane) (2.6.3)\n",
            "Requirement already satisfied: cachetools in /usr/local/lib/python3.7/dist-packages (from pennylane) (4.2.4)\n",
            "Requirement already satisfied: numpy in /usr/local/lib/python3.7/dist-packages (from pennylane) (1.21.5)\n",
            "Requirement already satisfied: autograd in /usr/local/lib/python3.7/dist-packages (from pennylane) (1.3)\n",
            "Requirement already satisfied: pennylane-lightning>=0.21 in /usr/local/lib/python3.7/dist-packages (from pennylane) (0.21.0)\n",
            "Requirement already satisfied: semantic-version==2.6 in /usr/local/lib/python3.7/dist-packages (from pennylane) (2.6.0)\n",
            "Requirement already satisfied: appdirs in /usr/local/lib/python3.7/dist-packages (from pennylane) (1.4.4)\n",
            "Requirement already satisfied: ninja in /usr/local/lib/python3.7/dist-packages (from pennylane-lightning>=0.21->pennylane) (1.10.2.3)\n",
            "Requirement already satisfied: future>=0.15.2 in /usr/local/lib/python3.7/dist-packages (from autograd->pennylane) (0.16.0)\n"
          ]
        }
      ],
      "source": [
        "pip install pennylane"
      ]
    },
    {
      "cell_type": "code",
      "execution_count": 2,
      "metadata": {
        "colab": {
          "base_uri": "https://localhost:8080/"
        },
        "id": "dY0Us0nfofvH",
        "outputId": "0bd209f0-c4e5-4b13-e573-b05fd42786d6"
      },
      "outputs": [
        {
          "output_type": "stream",
          "name": "stdout",
          "text": [
            "Requirement already satisfied: ttpy in /usr/local/lib/python3.7/dist-packages (1.2.1)\n"
          ]
        }
      ],
      "source": [
        "pip install ttpy"
      ]
    },
    {
      "cell_type": "code",
      "execution_count": 3,
      "metadata": {
        "colab": {
          "base_uri": "https://localhost:8080/"
        },
        "id": "q1Zztg_UorXT",
        "outputId": "a8f29a18-c8c8-425d-dac6-d07a74d05e6b"
      },
      "outputs": [
        {
          "output_type": "stream",
          "name": "stdout",
          "text": [
            "Requirement already satisfied: ncon in /usr/local/lib/python3.7/dist-packages (1.0.0)\n",
            "Requirement already satisfied: numpy>=1.11.0 in /usr/local/lib/python3.7/dist-packages (from ncon) (1.21.5)\n"
          ]
        }
      ],
      "source": [
        "pip install ncon"
      ]
    },
    {
      "cell_type": "code",
      "execution_count": 4,
      "metadata": {
        "id": "oGych7kv5yEe"
      },
      "outputs": [],
      "source": [
        "#importing part\n",
        "import pennylane as qml\n",
        "from pennylane import numpy as np\n",
        "\n",
        "import tt\n",
        "from tt.eigb import *\n",
        "\n",
        "from scipy import optimize as opt"
      ]
    },
    {
      "cell_type": "code",
      "execution_count": 6,
      "metadata": {
        "colab": {
          "base_uri": "https://localhost:8080/"
        },
        "id": "GJU_MYYWuvlK",
        "outputId": "0336304b-d694-4450-be1d-321d97811a83"
      },
      "outputs": [
        {
          "output_type": "stream",
          "name": "stdout",
          "text": [
            "=multifuncrs= sweep 1{2}, max_dy: 1.000e+00, erank: 1.93649\n",
            "=multifuncrs= sweep 2{1}, max_dy: 2.942e-02, erank: 3.54436\n",
            "=multifuncrs= sweep 2{2}, max_dy: 3.502e-02, erank: 6.18466\n",
            "=multifuncrs= sweep 3{1}, max_dy: 1.332e-02, erank: 9.51315\n",
            "=multifuncrs= sweep 3{2}, max_dy: 1.332e-02, erank: 10.3562\n",
            "=multifuncrs= sweep 4{1}, max_dy: 7.873e-15, erank: 10.198\n",
            "=multifuncrs= sweep 4{2}, max_dy: 7.873e-15, erank: 10.3138\n",
            "=multifuncrs= sweep 5{1}, max_dy: 0.000e+00, erank: 6.32456\n",
            "[-16.]\n"
          ]
        }
      ],
      "source": [
        "L = 4\n",
        "j1 = 0.5\n",
        "j2 = -1\n",
        "J = np.zeros((L*L, L*L))\n",
        "h = 0 * np.ones(L*L)\n",
        "\n",
        "for i in range(L):\n",
        "  for j in range(L):\n",
        "    J[i * L + j, i * L + ((j + 1) % L)] = j1\n",
        "    J[i * L + j, ((i + 1) % L) * L + j] = j1\n",
        "    J[i * L + j, ((i + 1) % L) * L + ((j + 1) % L)] = j2\n",
        "    J[i * L + j, ((i + 1) % L) * L + ((j - 1) % L)] = j2\n",
        "\n",
        "def H_gen(J,h):\n",
        "\n",
        "  def H_f(n):\n",
        "    a = []\n",
        "    for m in n:\n",
        "      m = int(m)\n",
        "      s = 0.5 * np.array([(m // 2**i) % 2 for i in range(N)]) - np.ones(N)\n",
        "      a.append(float(s.T @ J @ s) + h.T @ s)\n",
        "    return a\n",
        "\n",
        "  N = J.shape[0]\n",
        "  x = tt.xfun(n = 2, d = N)\n",
        "  H = tt.multifuncrs([x], H_f, 1e-8, y0= 0 * tt.ones(n = 2, d = N), rmax = 20)\n",
        "  H = tt.diag(H)\n",
        "  return(H)\n",
        "\n",
        "\n",
        "\n",
        "\n",
        "x = tt.ones(n = 2, d = L * L)\n",
        "y, lam = eigb(H_gen(J,h), x, 1e-8)\n",
        "\n",
        "print(lam)\n",
        "#print(Q, \"\\n\", np.around(H_QUBO(Q).full(), decimals = 1))"
      ]
    },
    {
      "cell_type": "code",
      "execution_count": 5,
      "metadata": {
        "id": "6FdtyagOIFMW"
      },
      "outputs": [],
      "source": [
        ""
      ]
    }
  ],
  "metadata": {
    "colab": {
      "collapsed_sections": [],
      "name": "ClassicalSolution.ipynb",
      "provenance": [],
      "include_colab_link": true
    },
    "kernelspec": {
      "display_name": "Python 3",
      "name": "python3"
    },
    "language_info": {
      "name": "python"
    }
  },
  "nbformat": 4,
  "nbformat_minor": 0
}