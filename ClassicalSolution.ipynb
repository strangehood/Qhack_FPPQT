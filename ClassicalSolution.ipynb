{
  "cells": [
    {
      "cell_type": "markdown",
      "metadata": {
        "id": "view-in-github",
        "colab_type": "text"
      },
      "source": [
        "<a href=\"https://colab.research.google.com/github/strangehood/Qhack_FPPQT/blob/main/ClassicalSolution.ipynb\" target=\"_parent\"><img src=\"https://colab.research.google.com/assets/colab-badge.svg\" alt=\"Open In Colab\"/></a>"
      ]
    },
    {
      "cell_type": "code",
      "execution_count": 2,
      "metadata": {
        "colab": {
          "base_uri": "https://localhost:8080/"
        },
        "id": "1Kn9htQQs9PZ",
        "outputId": "482bfce2-9586-474e-fc93-e3b7dd73b4ac"
      },
      "outputs": [
        {
          "output_type": "stream",
          "name": "stdout",
          "text": [
            "Collecting pennylane\n",
            "  Downloading PennyLane-0.21.0-py3-none-any.whl (800 kB)\n",
            "\u001b[K     |████████████████████████████████| 800 kB 8.7 MB/s \n",
            "\u001b[?25hCollecting semantic-version==2.6\n",
            "  Downloading semantic_version-2.6.0-py3-none-any.whl (14 kB)\n",
            "Collecting pennylane-lightning>=0.21\n",
            "  Downloading PennyLane_Lightning-0.21.0-cp37-cp37m-manylinux_2_17_x86_64.manylinux2014_x86_64.whl (7.8 MB)\n",
            "\u001b[K     |████████████████████████████████| 7.8 MB 48.1 MB/s \n",
            "\u001b[?25hRequirement already satisfied: numpy in /usr/local/lib/python3.7/dist-packages (from pennylane) (1.21.5)\n",
            "Requirement already satisfied: networkx in /usr/local/lib/python3.7/dist-packages (from pennylane) (2.6.3)\n",
            "Requirement already satisfied: cachetools in /usr/local/lib/python3.7/dist-packages (from pennylane) (4.2.4)\n",
            "Requirement already satisfied: appdirs in /usr/local/lib/python3.7/dist-packages (from pennylane) (1.4.4)\n",
            "Requirement already satisfied: autograd in /usr/local/lib/python3.7/dist-packages (from pennylane) (1.3)\n",
            "Collecting autoray\n",
            "  Downloading autoray-0.2.5-py3-none-any.whl (16 kB)\n",
            "Collecting retworkx\n",
            "  Downloading retworkx-0.11.0-cp37-cp37m-manylinux_2_5_x86_64.manylinux1_x86_64.manylinux_2_12_x86_64.manylinux2010_x86_64.whl (1.6 MB)\n",
            "\u001b[K     |████████████████████████████████| 1.6 MB 36.6 MB/s \n",
            "\u001b[?25hCollecting toml\n",
            "  Downloading toml-0.10.2-py2.py3-none-any.whl (16 kB)\n",
            "Requirement already satisfied: scipy in /usr/local/lib/python3.7/dist-packages (from pennylane) (1.4.1)\n",
            "Collecting ninja\n",
            "  Downloading ninja-1.10.2.3-py2.py3-none-manylinux_2_5_x86_64.manylinux1_x86_64.whl (108 kB)\n",
            "\u001b[K     |████████████████████████████████| 108 kB 19.5 MB/s \n",
            "\u001b[?25hRequirement already satisfied: future>=0.15.2 in /usr/local/lib/python3.7/dist-packages (from autograd->pennylane) (0.16.0)\n",
            "Installing collected packages: ninja, toml, semantic-version, retworkx, pennylane-lightning, autoray, pennylane\n",
            "Successfully installed autoray-0.2.5 ninja-1.10.2.3 pennylane-0.21.0 pennylane-lightning-0.21.0 retworkx-0.11.0 semantic-version-2.6.0 toml-0.10.2\n"
          ]
        }
      ],
      "source": [
        "pip install pennylane"
      ]
    },
    {
      "cell_type": "code",
      "execution_count": 3,
      "metadata": {
        "colab": {
          "base_uri": "https://localhost:8080/"
        },
        "id": "dY0Us0nfofvH",
        "outputId": "fa5ff38a-16ea-4bbb-dde8-400e231719ad"
      },
      "outputs": [
        {
          "output_type": "stream",
          "name": "stdout",
          "text": [
            "Collecting ttpy\n",
            "  Downloading ttpy-1.2.1.tar.gz (317 kB)\n",
            "\u001b[?25l\r\u001b[K     |█                               | 10 kB 25.7 MB/s eta 0:00:01\r\u001b[K     |██                              | 20 kB 28.6 MB/s eta 0:00:01\r\u001b[K     |███                             | 30 kB 32.6 MB/s eta 0:00:01\r\u001b[K     |████▏                           | 40 kB 22.6 MB/s eta 0:00:01\r\u001b[K     |█████▏                          | 51 kB 7.6 MB/s eta 0:00:01\r\u001b[K     |██████▏                         | 61 kB 8.4 MB/s eta 0:00:01\r\u001b[K     |███████▎                        | 71 kB 9.2 MB/s eta 0:00:01\r\u001b[K     |████████▎                       | 81 kB 10.2 MB/s eta 0:00:01\r\u001b[K     |█████████▎                      | 92 kB 11.3 MB/s eta 0:00:01\r\u001b[K     |██████████▎                     | 102 kB 10.2 MB/s eta 0:00:01\r\u001b[K     |███████████▍                    | 112 kB 10.2 MB/s eta 0:00:01\r\u001b[K     |████████████▍                   | 122 kB 10.2 MB/s eta 0:00:01\r\u001b[K     |█████████████▍                  | 133 kB 10.2 MB/s eta 0:00:01\r\u001b[K     |██████████████▌                 | 143 kB 10.2 MB/s eta 0:00:01\r\u001b[K     |███████████████▌                | 153 kB 10.2 MB/s eta 0:00:01\r\u001b[K     |████████████████▌               | 163 kB 10.2 MB/s eta 0:00:01\r\u001b[K     |█████████████████▋              | 174 kB 10.2 MB/s eta 0:00:01\r\u001b[K     |██████████████████▋             | 184 kB 10.2 MB/s eta 0:00:01\r\u001b[K     |███████████████████▋            | 194 kB 10.2 MB/s eta 0:00:01\r\u001b[K     |████████████████████▋           | 204 kB 10.2 MB/s eta 0:00:01\r\u001b[K     |█████████████████████▊          | 215 kB 10.2 MB/s eta 0:00:01\r\u001b[K     |██████████████████████▊         | 225 kB 10.2 MB/s eta 0:00:01\r\u001b[K     |███████████████████████▊        | 235 kB 10.2 MB/s eta 0:00:01\r\u001b[K     |████████████████████████▉       | 245 kB 10.2 MB/s eta 0:00:01\r\u001b[K     |█████████████████████████▉      | 256 kB 10.2 MB/s eta 0:00:01\r\u001b[K     |██████████████████████████▉     | 266 kB 10.2 MB/s eta 0:00:01\r\u001b[K     |████████████████████████████    | 276 kB 10.2 MB/s eta 0:00:01\r\u001b[K     |█████████████████████████████   | 286 kB 10.2 MB/s eta 0:00:01\r\u001b[K     |██████████████████████████████  | 296 kB 10.2 MB/s eta 0:00:01\r\u001b[K     |███████████████████████████████ | 307 kB 10.2 MB/s eta 0:00:01\r\u001b[K     |████████████████████████████████| 317 kB 10.2 MB/s \n",
            "\u001b[?25hBuilding wheels for collected packages: ttpy\n",
            "  Building wheel for ttpy (setup.py) ... \u001b[?25l\u001b[?25hdone\n",
            "  Created wheel for ttpy: filename=ttpy-1.2.1-cp37-cp37m-linux_x86_64.whl size=2961643 sha256=0f1d7fe9aa2b9039aaab9387b9255be36342206b0af9f8a02253774b7f889e4b\n",
            "  Stored in directory: /root/.cache/pip/wheels/1c/45/02/9593e1923b244554f33e29be39b1413772acac8c8a1ba30596\n",
            "Successfully built ttpy\n",
            "Installing collected packages: ttpy\n",
            "Successfully installed ttpy-1.2.1\n"
          ]
        }
      ],
      "source": [
        "pip install ttpy"
      ]
    },
    {
      "cell_type": "code",
      "execution_count": 4,
      "metadata": {
        "colab": {
          "base_uri": "https://localhost:8080/"
        },
        "id": "q1Zztg_UorXT",
        "outputId": "42cd2050-8ff4-4064-aac4-a969ea8b0940"
      },
      "outputs": [
        {
          "output_type": "stream",
          "name": "stdout",
          "text": [
            "Collecting ncon\n",
            "  Downloading ncon-1.0.0-py3-none-any.whl (7.8 kB)\n",
            "Requirement already satisfied: numpy>=1.11.0 in /usr/local/lib/python3.7/dist-packages (from ncon) (1.21.5)\n",
            "Installing collected packages: ncon\n",
            "Successfully installed ncon-1.0.0\n"
          ]
        }
      ],
      "source": [
        "pip install ncon"
      ]
    },
    {
      "cell_type": "code",
      "execution_count": 5,
      "metadata": {
        "id": "oGych7kv5yEe"
      },
      "outputs": [],
      "source": [
        "#importing part\n",
        "import pennylane as qml\n",
        "from pennylane import numpy as np\n",
        "\n",
        "import tt\n",
        "from tt.eigb import *\n",
        "\n",
        "from scipy import optimize as opt"
      ]
    },
    {
      "cell_type": "code",
      "execution_count": 6,
      "metadata": {
        "colab": {
          "base_uri": "https://localhost:8080/"
        },
        "id": "GJU_MYYWuvlK",
        "outputId": "9a3227b2-c47d-4cc6-d2e1-ba1ee0aa5798"
      },
      "outputs": [
        {
          "output_type": "stream",
          "name": "stdout",
          "text": [
            "[-49.]\n"
          ]
        }
      ],
      "source": [
        "L = 7\n",
        "j1 = 0.5\n",
        "j2 = -1\n",
        "J = np.zeros((L*L, L*L))\n",
        "h = 0 * np.ones(L*L)\n",
        "\n",
        "for i in range(L):\n",
        "  for j in range(L):\n",
        "    J[i * L + j, i * L + ((j + 1) % L)] = j1\n",
        "    J[i * L + j, ((i + 1) % L) * L + j] = j1\n",
        "    J[i * L + j, ((i + 1) % L) * L + ((j + 1) % L)] = j2\n",
        "    J[i * L + j, ((i + 1) % L) * L + ((j - 1) % L)] = j2\n",
        "\n",
        "def H_gen(J,h):\n",
        "\n",
        "  def H_f(n):\n",
        "    a = []\n",
        "    for m in n:\n",
        "      m = int(m)\n",
        "      s = 0.5 * np.array([(m // 2**i) % 2 for i in range(N)]) - np.ones(N)\n",
        "      a.append(float(s.T @ J @ s) + h.T @ s)\n",
        "    return a\n",
        "\n",
        "  N = J.shape[0]\n",
        "  x = tt.xfun(n = 2, d = N)\n",
        "  H = tt.multifuncrs([x], H_f, 1e-12, y0= tt.ones(n = 2, d = N), verb = 0)\n",
        "  H = tt.diag(H)\n",
        "  return(H)\n",
        "\n",
        "\n",
        "\n",
        "\n",
        "\n",
        "x = tt.ones(n = 2, d = L * L)\n",
        "y, lam = eigb(H_gen(J,h), x, 1e-8)\n",
        "\n",
        "print(lam)\n",
        "#print(Q, \"\\n\", np.around(H_QUBO(Q).full(), decimals = 1))"
      ]
    },
    {
      "cell_type": "code",
      "execution_count": 7,
      "metadata": {
        "id": "6FdtyagOIFMW",
        "colab": {
          "base_uri": "https://localhost:8080/",
          "height": 265
        },
        "outputId": "30373838-14d7-49a2-d13f-294157860be6"
      },
      "outputs": [
        {
          "output_type": "display_data",
          "data": {
            "image/png": "[encoded data removed]",
            "text/plain": [
              "<Figure size 432x288 with 1 Axes>"
            ]
          },
          "metadata": {
            "needs_background": "light"
          }
        }
      ],
      "source": [
        "import matplotlib.pyplot as plt\n",
        "\n",
        "a = []\n",
        "N = 10\n",
        "for i in range(N):\n",
        "  L = 5\n",
        "  j1 = 1 \n",
        "  j2 = -1 * (1 * i / N)\n",
        "  J = np.zeros((L*L, L*L))\n",
        "  h =  0 * np.ones(L*L)  \n",
        "\n",
        "  for i in range(L):\n",
        "    for j in range(L):\n",
        "      J[i * L + j, i * L + ((j + 1) % L)] = j1\n",
        "      J[i * L + j, ((i + 1) % L) * L + j] = j1\n",
        "      J[i * L + j, ((i + 1) % L) * L + ((j + 1) % L)] = j2\n",
        "      J[i * L + j, ((i + 1) % L) * L + ((j - 1) % L)] = j2\n",
        "\n",
        "  J = 0.5 * (J + J.T)  \n",
        "  x = tt.ones(n = 2, d = L * L)\n",
        "  y, lam = eigb(H_gen(J,h), x, 1e-12,verb = 0)\n",
        "  a.append(int(lam))\n",
        "  \n",
        "plt.plot( (1 / N) * np.array(range(N)), a)\n",
        "plt.show()"
      ]
    }
  ],
  "metadata": {
    "colab": {
      "collapsed_sections": [],
      "name": "ClassicalSolution.ipynb",
      "provenance": [],
      "include_colab_link": true
    },
    "kernelspec": {
      "display_name": "Python 3",
      "name": "python3"
    },
    "language_info": {
      "name": "python"
    }
  },
  "nbformat": 4,
  "nbformat_minor": 0
}